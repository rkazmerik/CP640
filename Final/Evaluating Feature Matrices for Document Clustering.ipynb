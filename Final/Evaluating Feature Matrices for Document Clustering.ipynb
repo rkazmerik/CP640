{
 "cells": [
  {
   "cell_type": "markdown",
   "metadata": {},
   "source": [
    "# Document Clustering: An Evaluation of Feature Matricies\n",
    "\n",
    "- Wilfrid Laurier University (Winter 2018)\n",
    "- CS640 - Introduction to Machine Learning\n",
    "- Ryan Kazmerik (175826410)\n",
    "\n",
    "## Overview\n",
    "{ Still need to write this section, providing a brief overview of the experiment }"
   ]
  },
  {
   "attachments": {},
   "cell_type": "markdown",
   "metadata": {},
   "source": [
    "## Datasets\n",
    "### 1. 20newsgroups\n",
    "The 20 newsgroups dataset comprises around 18000 newsgroups posts on 20 topics and has become a popular data set for experiments in text applications of machine learning techniques, such as text classification and text clustering.\n",
    "\n",
    "Let's import the 20newsgroups dataset:"
   ]
  },
  {
   "cell_type": "code",
   "execution_count": 65,
   "metadata": {},
   "outputs": [
    {
     "name": "stdout",
     "output_type": "stream",
     "text": [
      "20-newsgroups dataset:\n",
      "   Documents= 18846\n",
      "   Categories= 20\n"
     ]
    }
   ],
   "source": [
    "from sklearn.datasets import fetch_20newsgroups\n",
    "\n",
    "# ds1 = 20-newsgroups dataset\n",
    "ds1 = fetch_20newsgroups(subset='all', categories=None, shuffle=True,  \n",
    "                         random_state=1, remove=('footers','quotes'))\n",
    "\n",
    "# Extract the target classes\n",
    "ds1_labels = ds1.target\n",
    "\n",
    "print '20-newsgroups dataset:'\n",
    "print '   Documents=', len(ds1.data)\n",
    "print '   Categories=', len(ds1.target_names)"
   ]
  },
  {
   "cell_type": "markdown",
   "metadata": {},
   "source": [
    "### 2. Reuters-21578\n",
    "Reuters-21578 is commonly used collection for text clustering and  classification as it contains structured information about newswire articles that can be assigned to several classes, making it a multi-label problem.\n",
    "\n",
    "Let's import the reuters-21578 dataset:"
   ]
  },
  {
   "cell_type": "code",
   "execution_count": 74,
   "metadata": {},
   "outputs": [
    {
     "name": "stdout",
     "output_type": "stream",
     "text": [
      "Reuters-21578 dataset:\n",
      "   Documents= 10788\n",
      "   Categories= 90\n"
     ]
    }
   ],
   "source": [
    "import nltk\n",
    "from sklearn.preprocessing import MultiLabelBinarizer\n",
    "from nltk.corpus import reuters\n",
    "\n",
    "docs = reuters.fileids()\n",
    "\n",
    "# ds2 = Reuters-21578 dataset\n",
    "ds2_ids = list(docs)\n",
    "\n",
    "ds2 = [reuters.raw(doc_id) for doc_id in ds2_ids]\n",
    "\n",
    "# Extract the target classes\n",
    "mlb = MultiLabelBinarizer()\n",
    "ds2_labels = mlb.fit_transform([reuters.categories(doc_id)\n",
    "                                  for doc_id in ds2_ids])\n",
    " \n",
    "print 'Reuters-21578 dataset:'\n",
    "print '   Documents=', len(ds2)\n",
    "print '   Categories=', len(reuters.categories())"
   ]
  },
  {
   "cell_type": "markdown",
   "metadata": {},
   "source": [
    "## Vectorizing Features\n",
    "The text in the documents must be parsed to remove stop words (tokenization) and the words need to be encoded as floating point values to be used as input for our clustering algorithm (vectorization).\n",
    "\n",
    "Let's create some feature vectors for our datasets:"
   ]
  },
  {
   "cell_type": "code",
   "execution_count": 69,
   "metadata": {},
   "outputs": [
    {
     "name": "stdout",
     "output_type": "stream",
     "text": [
      "20-newsgroups features:\n",
      "   Num features: 10\n",
      "   Non-zero components: 3.28207577205\n",
      "\n",
      "Reuters-21578 features:\n",
      "   Num features: 10\n",
      "   TF Non-zero components: 3.77975528365\n"
     ]
    }
   ],
   "source": [
    "from sklearn.feature_extraction.text import CountVectorizer, TfidfVectorizer\n",
    "\n",
    "# Use TF-IDF vectorizer for Kmeans & PLSA\n",
    "tfidf_vectorizer = TfidfVectorizer(max_df=0.95, min_df=2, \n",
    "                     max_features=10, stop_words='english')\n",
    "\n",
    "# Use TF (term count) vectorizer for LDA\n",
    "tf_vectorizer = CountVectorizer(max_df=0.95, min_df=2,\n",
    "                     max_features=10, stop_words='english')\n",
    "\n",
    "# Generate feature sets for fs1 (20newsgroups) and fs2 (reuters)\n",
    "fs1_idf = tfidf_vectorizer.fit_transform(ds1.data)\n",
    "fs1_tf = tf_vectorizer.fit_transform(ds1.data)\n",
    "\n",
    "fs2_idf = tfidf_vectorizer.fit_transform(ds2)\n",
    "fs2_tf = tf_vectorizer.fit_transform(ds2)\n",
    "\n",
    "print '20-newsgroups features:'\n",
    "print '   Num features:', fs1_idf.shape[1]\n",
    "print '   Non-zero components:', fs1_tf.nnz / float(fs1_tf.shape[0])\n",
    "print ''\n",
    "print 'Reuters-21578 features:'\n",
    "print '   Num features:', fs2_idf.shape[1]\n",
    "print '   TF Non-zero components:', fs2_tf.nnz / float(fs2_tf.shape[0])"
   ]
  },
  {
   "cell_type": "markdown",
   "metadata": {},
   "source": [
    "## Clustering (Kmeans, LDA, PLSA)\n",
    "Three algorithms are used to cluster the results including a standard implementation of Kmeans, Non-negative Matrix Factorization is applied with the generalized Kullback-Leibler divergence which is equivalent to Probabilistic Latent Semantic Analysis (PLSA).\n",
    "\n",
    "Let's cluster our feature sets:"
   ]
  },
  {
   "cell_type": "code",
   "execution_count": 75,
   "metadata": {},
   "outputs": [
    {
     "name": "stdout",
     "output_type": "stream",
     "text": [
      "Fitting the kMeans model...\n",
      "   done in: 0.822370052338\n",
      "\n",
      "Fitting the LDA model...\n",
      "   done in: 45.2499690056\n",
      "\n",
      "Fitting the PLSA model...\n",
      "   done in: 7.73369312286\n"
     ]
    }
   ],
   "source": [
    "from sklearn.cluster import KMeans\n",
    "from sklearn.decomposition import LatentDirichletAllocation, NMF\n",
    "from time import time\n",
    "\n",
    "# Fit the kMeans model KM1=20-newsgroups KM2=Reuters-21578\n",
    "t0 = time()\n",
    "KM = KMeans(n_clusters=4, init='k-means++', max_iter=100, \n",
    "            n_init=1, verbose=0)\n",
    "print'Fitting the kMeans model...'\n",
    "\n",
    "KM1 = KM.fit(fs1_idf)\n",
    "KM2 = KM.fit(fs2_idf)\n",
    "\n",
    "print'   done in:', (time()-t0)\n",
    "print ''\n",
    "\n",
    "# Fit the LDA model LDA1=20-newsgroups LDA2=Reuters-21578\n",
    "t0 = time()\n",
    "LDA = LatentDirichletAllocation(n_components=10, max_iter=5,\n",
    "            learning_method='online', learning_offset=50., random_state=0)\n",
    "print 'Fitting the LDA model...'\n",
    "LDA1 = LDA.fit(fs1_tf)\n",
    "LDA2 = LDA.fit(fs2_tf)\n",
    "\n",
    "print'   done in:', (time()-t0)\n",
    "print ''\n",
    "\n",
    "# Fit the PLSA model PLSA1=20-newsgroups PLSA2=Reuters-21578\n",
    "t0 = time()\n",
    "PLSA = NMF(n_components=10, random_state=1, beta_loss='kullback-leibler', \n",
    "           solver='mu', max_iter=1000, alpha=.1, l1_ratio=.5)\n",
    "print 'Fitting the PLSA model...'\n",
    "\n",
    "PLSA2 = PLSA.fit(fs1_idf)\n",
    "PLSA2 = PLSA.fit(fs2_idf)\n",
    "\n",
    "print'   done in:', (time()-t0)"
   ]
  },
  {
   "cell_type": "markdown",
   "metadata": {},
   "source": [
    "## Evaluate the Results"
   ]
  },
  {
   "cell_type": "code",
   "execution_count": 82,
   "metadata": {},
   "outputs": [
    {
     "name": "stdout",
     "output_type": "stream",
     "text": [
      "[[1.31412012e+00 1.35938391e+00 9.91809913e+03 8.88336655e+00\n",
      "  2.74883958e+02 6.34923003e+01 2.91365698e+00 2.11908802e+01\n",
      "  1.78439919e-01 1.70264819e+02]\n",
      " [1.33244633e-01 1.00031178e-01 4.02829341e-01 7.40479739e-01\n",
      "  2.69868202e+01 1.15670987e-01 9.19756762e+03 1.61191738e+03\n",
      "  1.02393087e-01 9.32339221e+02]\n",
      " [3.79345252e+03 1.00061444e-01 1.00344143e-01 1.00105207e-01\n",
      "  1.39244693e-01 1.00041264e-01 1.00183233e-01 4.25975096e+02\n",
      "  1.00034525e-01 1.87216583e+02]\n",
      " [1.12516250e-01 1.13113934e-01 1.07517205e+01 2.57183637e+00\n",
      "  1.29481787e-01 1.00034953e-01 1.00889359e-01 1.52040167e+04\n",
      "  1.00173577e-01 2.72747767e+02]\n",
      " [1.00000398e+02 4.68221938e+01 1.18427829e+03 5.68348780e+02\n",
      "  6.54274445e+03 1.90331586e+03 1.06529451e-01 1.00022943e-01\n",
      "  4.60929826e+03 3.15307834e+02]\n",
      " [1.01682287e-01 1.18290191e-01 3.37440868e+02 6.59715773e+01\n",
      "  8.81324660e+03 7.54391430e-01 3.51796822e+00 1.89256978e+03\n",
      "  1.00024051e-01 5.00263400e+02]\n",
      " [6.32005639e+03 3.47933151e+03 8.10780801e+01 1.05617202e+03\n",
      "  2.37846674e+03 3.06239340e+03 1.00028529e-01 1.00021904e-01\n",
      "  6.06990073e+03 5.76240047e+02]\n",
      " [1.07022004e-01 4.86889095e+03 1.00870257e-01 1.40056692e+03\n",
      "  4.07533829e+02 1.17532041e+03 1.00113486e-01 1.00030884e-01\n",
      "  3.42854106e+03 4.57261465e+00]\n",
      " [1.00050148e-01 1.48401175e-01 7.87948388e+02 5.62121849e+03\n",
      "  1.31938696e+02 1.00780393e-01 7.68003816e+02 6.40874266e+03\n",
      "  1.00377315e-01 9.28815201e-01]\n",
      " [1.00033962e-01 9.94921785e-01 1.72979515e-01 9.53293426e+01\n",
      "  3.52612975e+01 6.55050228e+02 1.00160526e-01 7.96275318e+01\n",
      "  1.08472515e-01 4.87881054e+03]]\n"
     ]
    }
   ],
   "source": [
    "from sklearn import metrics\n",
    "\n",
    "#print(KM1.labels_[:100])\n",
    "#print(KM2.labels_[:100])\n",
    "\n",
    "print(LDA1.components_[:100])\n",
    "\n",
    "#print(\"Homogeneity: %0.3f\" % metrics.homogeneity_score(labels, km.labels_))\n",
    "#print(\"Completeness: %0.3f\" % metrics.completeness_score(labels, km.labels_))\n",
    "#print(\"V-measure: %0.3f\" % metrics.v_measure_score(labels, km.labels_))\n",
    "#print(\"Adjusted Rand-Index: %.3f\"\n",
    "#      % metrics.adjusted_rand_score(labels, km.labels_))\n",
    "#print(\"Silhouette Coefficient: %0.3f\"\n",
    "#      % metrics.silhouette_score(F2, km.labels_, sample_size=1000))"
   ]
  },
  {
   "cell_type": "markdown",
   "metadata": {},
   "source": [
    "## View Cluster Top Terms"
   ]
  },
  {
   "cell_type": "code",
   "execution_count": 32,
   "metadata": {},
   "outputs": [
    {
     "name": "stdout",
     "output_type": "stream",
     "text": [
      "Cluster 0: god com keith atheism atheists people religion don sgi say\n",
      "Cluster 1: game ca team hockey games nhl play espn university season\n",
      "Cluster 2: com people cramer government optilink don state clinton gay just\n",
      "Cluster 3: space nasa access henry com moon gov shuttle orbit digex\n"
     ]
    }
   ],
   "source": [
    "original_space_centroids = svd.inverse_transform(km.cluster_centers_)\n",
    "order_centroids = original_space_centroids.argsort()[:, ::-1]\n",
    "\n",
    "terms = vectorizer.get_feature_names()\n",
    "for i in range(4):\n",
    "    print(\"Cluster %d:\" % i, end='')\n",
    "    for ind in order_centroids[i, :10]:\n",
    "        print(' %s' % terms[ind], end='')\n",
    "    print()"
   ]
  },
  {
   "cell_type": "code",
   "execution_count": 5,
   "metadata": {},
   "outputs": [
    {
     "name": "stdout",
     "output_type": "stream",
     "text": [
      "[[0 0 0 0 0 0 1 0 0 0 0 0 0 0 0 0 0 0 0 0 0 0 0 0 0 0 0 0 0 0 0 0 0 0 0 0\n",
      "  0 0 0 0 0 0 0 0 0 0 0 0 0 0 0 0 0 0 0 0 0 0 0 0 0 0 0 0 0 0 0 0 0 0 0 0\n",
      "  0 0 0 0 0 0 0 0 0 0 0 0 0 0 0 0 0 0]\n",
      " [1 0 0 0 0 0 0 0 0 0 0 0 0 0 0 0 0 0 0 0 0 0 0 0 0 0 0 0 0 0 0 0 0 0 0 0\n",
      "  0 0 0 0 0 0 0 0 0 0 0 0 0 0 0 0 0 0 0 0 0 0 0 0 0 0 0 0 0 0 0 0 0 0 0 0\n",
      "  0 0 0 0 0 0 0 0 0 0 0 0 0 0 0 0 0 0]\n",
      " [0 0 0 0 0 0 0 0 0 0 0 0 0 0 0 0 0 0 0 0 0 0 0 0 0 0 0 0 0 0 0 0 0 0 0 0\n",
      "  0 0 0 0 0 0 0 0 0 0 0 1 0 0 0 0 0 0 0 0 0 0 0 0 0 0 0 0 0 0 0 0 0 0 0 0\n",
      "  0 0 0 0 0 0 0 0 0 0 0 0 0 0 0 0 0 0]\n",
      " [1 0 0 0 0 0 0 0 0 0 0 0 0 0 0 0 0 0 0 0 0 0 0 0 0 0 0 0 0 0 0 0 0 0 0 0\n",
      "  0 0 0 0 0 0 0 0 0 0 0 0 0 0 0 0 0 0 0 0 0 0 0 0 0 0 0 0 0 0 0 0 0 0 0 0\n",
      "  0 0 0 0 0 0 0 0 0 0 0 0 0 0 0 0 0 0]\n",
      " [0 0 0 0 0 0 0 0 0 0 0 0 0 0 0 0 0 0 0 0 0 1 0 0 0 0 0 0 0 0 0 0 0 0 0 0\n",
      "  0 0 0 0 0 0 0 0 0 0 0 0 0 0 0 0 0 0 0 0 0 0 0 0 0 0 0 0 0 0 0 0 0 0 0 0\n",
      "  0 0 0 0 0 0 0 0 0 0 0 0 0 0 0 0 0 0]]\n"
     ]
    }
   ],
   "source": []
  },
  {
   "cell_type": "code",
   "execution_count": null,
   "metadata": {},
   "outputs": [],
   "source": []
  }
 ],
 "metadata": {
  "kernelspec": {
   "display_name": "Python 2",
   "language": "python",
   "name": "python2"
  },
  "language_info": {
   "codemirror_mode": {
    "name": "ipython",
    "version": 2
   },
   "file_extension": ".py",
   "mimetype": "text/x-python",
   "name": "python",
   "nbconvert_exporter": "python",
   "pygments_lexer": "ipython2",
   "version": "2.7.10"
  }
 },
 "nbformat": 4,
 "nbformat_minor": 2
}
